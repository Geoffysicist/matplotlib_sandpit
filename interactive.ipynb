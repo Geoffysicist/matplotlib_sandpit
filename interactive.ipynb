{
 "cells": [
  {
   "source": [
    "# heading\n",
    "first import all the stuff we need\n"
   ],
   "cell_type": "markdown",
   "metadata": {}
  },
  {
   "cell_type": "code",
   "execution_count": 19,
   "id": "8b02072e",
   "metadata": {},
   "outputs": [
    {
     "output_type": "stream",
     "name": "stdout",
     "text": [
      "imports done\n"
     ]
    }
   ],
   "source": [
    "%matplotlib widget\n",
    "import pandas as pd\n",
    "import matplotlib.pyplot as plt\n",
    "import matplotlib.patches as mp\n",
    "import numpy as np\n",
    "from matplotlib.backend_bases import MouseButton\n",
    "\n",
    "import cmath as c\n",
    "print('imports done')"
   ]
  },
  {
   "cell_type": "code",
   "execution_count": 65,
   "metadata": {},
   "outputs": [
    {
     "output_type": "display_data",
     "data": {
      "text/plain": "Canvas(toolbar=Toolbar(toolitems=[('Home', 'Reset original view', 'home', 'home'), ('Back', 'Back to previous …",
      "application/vnd.jupyter.widget-view+json": {
       "version_major": 2,
       "version_minor": 0,
       "model_id": "6effb1b4dcd342bb870236f03a351b54"
      }
     },
     "metadata": {}
    }
   ],
   "source": [
    "def on_click(event):\n",
    "    if event.button is MouseButton.LEFT:\n",
    "        if event.inaxes == axs[0]:\n",
    "            vector.set_visible(True)\n",
    "            wave.set_visible(True)\n",
    "            z = complex(event.xdata, event.ydata)\n",
    "            draw_complex_wave(z)\n",
    "\n",
    "def on_motion(event):\n",
    "    if event.button is MouseButton.LEFT:\n",
    "        if event.inaxes == axs[0]:\n",
    "            z = complex(event.xdata, event.ydata)\n",
    "            draw_complex_wave(z)\n",
    "\n",
    "def on_release(event):\n",
    "    pass      \n",
    "\n",
    "def draw_complex_wave(z): \n",
    "    amp, phase = c.polar(z)\n",
    "\n",
    "    vector.set_positions((0,0),(z.real,z.imag))\n",
    "    wave.set_xdata(x)\n",
    "    wave.set_ydata(amp*np.sin(x+phase))\n",
    "    \n",
    "    fig.canvas.draw()\n",
    "\n",
    "\n",
    "fig, axs = plt.subplots(1,2)\n",
    "fig.canvas.mpl_connect('button_press_event', on_click)\n",
    "fig.canvas.mpl_connect('motion_notify_event', on_motion)\n",
    "fig.canvas.mpl_connect('button_release_event', on_release)\n",
    "\n",
    "for i, ax in enumerate(axs):\n",
    "    ax.axis('equal')\n",
    "    ax.set_xlim([-4, 4])\n",
    "    ax.set_ylim([-4, 4])\n",
    "    ax.spines[[\"left\", \"bottom\"]].set_position(('data', 0))\n",
    "    ax.spines[[\"top\", \"right\"]].set_visible(False)\n",
    "    ax.set_box_aspect(1)\n",
    "\n",
    "#set initial amplitude and phase\n",
    "z = complex(1,0)\n",
    "amp, phase = c.polar(z)\n",
    "x = np.linspace(-np.pi, np.pi, 100)\n",
    "x_unit = np.cos(x)\n",
    "y_unit = np.sin(x)\n",
    "\n",
    "unit_circle, = axs[0].plot(x_unit, y_unit, linestyle='dotted', color='green')\n",
    "unit_sine, = axs[1].plot(x, y_unit, linestyle='dotted', color='green')\n",
    "\n",
    "unit_vector = mp.FancyArrowPatch((0, 0), (1, 0),mutation_scale=5, color='green')\n",
    "vector = mp.FancyArrowPatch((0, 0), (1, 0),mutation_scale=5, color='red', visible=False)\n",
    "\n",
    "wave, = axs[1].plot(x, amp*np.sin(x+phase), visible=False, color='red')\n",
    "axs[0].add_patch(unit_vector)\n",
    "axs[0].add_patch(vector)\n",
    "fig.canvas.draw()\n"
   ]
  },
  {
   "cell_type": "code",
   "execution_count": null,
   "metadata": {},
   "outputs": [],
   "source": []
  }
 ],
 "metadata": {
  "kernelspec": {
   "name": "python387jvsc74a57bd0e43f06446efaeb40cebf8d660803ab439032d3039fce5014b80ed2d768f6fb9c",
   "display_name": "Python 3.8.7 64-bit ('.venv')"
  },
  "language_info": {
   "codemirror_mode": {
    "name": "ipython",
    "version": 3
   },
   "file_extension": ".py",
   "mimetype": "text/x-python",
   "name": "python",
   "nbconvert_exporter": "python",
   "pygments_lexer": "ipython3",
   "version": "3.8.7-final"
  },
  "metadata": {
   "interpreter": {
    "hash": "e43f06446efaeb40cebf8d660803ab439032d3039fce5014b80ed2d768f6fb9c"
   }
  }
 },
 "nbformat": 4,
 "nbformat_minor": 5
}